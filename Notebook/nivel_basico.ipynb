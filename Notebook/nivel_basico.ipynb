{
 "metadata": {
  "language_info": {
   "codemirror_mode": {
    "name": "ipython",
    "version": 3
   },
   "file_extension": ".py",
   "mimetype": "text/x-python",
   "name": "python",
   "nbconvert_exporter": "python",
   "pygments_lexer": "ipython3",
   "version": 3
  },
  "orig_nbformat": 4
 },
 "nbformat": 4,
 "nbformat_minor": 2,
 "cells": [
  {
   "source": [
    "![image](https://i2.wp.com/semantix.com.br/wp-content/uploads/2021/03/smtx-logo-white.png?resize=300%2C71)\n",
    "\n",
    "# Campanha Nacional de Vacinação contra Covid-19\n",
    "\n",
    "## **Etapas**\n",
    "1. Enviar os dados para o hdfs\n",
    "2. Otimizar todos os dados do hdfs para uma tabela Hive particionada por município.\n",
    "3. Criar as 3 vizualizações pelo Spark com os dados enviados para o HDFS\n",
    "4. Salvar a primeira visualização como tabela Hive\n",
    "5. Salvar a segunda visualização com formato parquet e compressão snappy\n",
    "6. Salvar a terceira visualização em um tópico no Kafka\n",
    "7. Criar a visualização pelo Spark com os dados enviados para o HDFS:"
   ],
   "cell_type": "markdown",
   "metadata": {}
  }
 ]
}